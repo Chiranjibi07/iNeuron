{
 "cells": [
  {
   "cell_type": "markdown",
   "id": "67eca440",
   "metadata": {},
   "source": [
    "1.\tWrite a Python Program to Find the Factorial of a Number?"
   ]
  },
  {
   "cell_type": "code",
   "execution_count": 12,
   "id": "2a310393",
   "metadata": {},
   "outputs": [
    {
     "name": "stdout",
     "output_type": "stream",
     "text": [
      "Enter a number4\n",
      "Factorial of 4 is 24\n"
     ]
    }
   ],
   "source": [
    "num = int(input(\"Enter a number\"))\n",
    "fact = 1\n",
    "for i in range(1,num+1):\n",
    "    fact = fact*i\n",
    "print(\"Factorial of {} is {}\".format(num,fact))"
   ]
  },
  {
   "cell_type": "markdown",
   "id": "800c6c7a",
   "metadata": {},
   "source": [
    "2.\tWrite a Python Program to Display the multiplication Table?"
   ]
  },
  {
   "cell_type": "code",
   "execution_count": 14,
   "id": "729b0970",
   "metadata": {},
   "outputs": [
    {
     "name": "stdout",
     "output_type": "stream",
     "text": [
      "Enter a number for producing multiplication table4\n",
      "4 * 1 = 4\n",
      "4 * 2 = 8\n",
      "4 * 3 = 12\n",
      "4 * 4 = 16\n",
      "4 * 5 = 20\n",
      "4 * 6 = 24\n",
      "4 * 7 = 28\n",
      "4 * 8 = 32\n",
      "4 * 9 = 36\n",
      "4 * 10 = 40\n"
     ]
    }
   ],
   "source": [
    "num = int(input(\"Enter a number for producing multiplication table\"))\n",
    "for i in range(1,11):\n",
    "    print(\"{} * {} = {}\".format(num,i,num*i))"
   ]
  },
  {
   "cell_type": "markdown",
   "id": "c2def210",
   "metadata": {},
   "source": [
    "3.\tWrite a Python Program to Print the Fibonacci sequence?"
   ]
  },
  {
   "cell_type": "code",
   "execution_count": 26,
   "id": "cd4b7782",
   "metadata": {},
   "outputs": [
    {
     "name": "stdout",
     "output_type": "stream",
     "text": [
      "Enter how many times to continue :- 10\n",
      "0\n",
      "1\n",
      "1\n",
      "2\n",
      "3\n",
      "5\n",
      "8\n",
      "13\n",
      "21\n",
      "34\n"
     ]
    }
   ],
   "source": [
    "times = int(input(\"Enter how many times to continue :- \"))\n",
    "x = 0\n",
    "first = 0\n",
    "second = 1\n",
    "\n",
    "if times == 1:\n",
    "    print(first)\n",
    "elif times == 2:\n",
    "    print(first)\n",
    "    print(second)\n",
    "else:    \n",
    "    print(first)\n",
    "    print(second)\n",
    "    for i in range(2,times):\n",
    "        x = first + second\n",
    "        print(x)\n",
    "        first = second\n",
    "        second = x\n",
    "    \n",
    "    "
   ]
  },
  {
   "cell_type": "markdown",
   "id": "f2552341",
   "metadata": {},
   "source": [
    "4.\tWrite a Python Program to Check Armstrong Number?"
   ]
  },
  {
   "cell_type": "code",
   "execution_count": 39,
   "id": "786faf24",
   "metadata": {},
   "outputs": [
    {
     "name": "stdout",
     "output_type": "stream",
     "text": [
      "Enter a number to check armstrong or not :- 1634\n",
      "1634 is an Armstrong Number\n"
     ]
    }
   ],
   "source": [
    "num = input(\"Enter a number to check armstrong or not :- \")\n",
    "\n",
    "sum = 0\n",
    "length = len(num)\n",
    "\n",
    "for i in range(length):\n",
    "    \n",
    "    sum = sum + int(num[i]) ** length\n",
    "\n",
    "if sum == int(num):\n",
    "    print(\"{} is an Armstrong Number\".format(num))\n",
    "else:\n",
    "    print(\"{} is not an Armstrong Number\".format(num))\n",
    "    \n"
   ]
  },
  {
   "cell_type": "markdown",
   "id": "b1d636e8",
   "metadata": {},
   "source": [
    "5.\tWrite a Python Program to Find Armstrong Number in an Interval?"
   ]
  },
  {
   "cell_type": "code",
   "execution_count": 68,
   "id": "55ec8ef8",
   "metadata": {},
   "outputs": [
    {
     "name": "stdout",
     "output_type": "stream",
     "text": [
      "Enter starting position of the interval 1\n",
      "Enter starting position of the interval 1666\n",
      "[1, 2, 3, 4, 5, 6, 7, 8, 9, 153, 370, 371, 407, 1634]\n"
     ]
    }
   ],
   "source": [
    "start = input(\"Enter starting position of the interval \")\n",
    "end = input(\"Enter starting position of the interval \")\n",
    "\n",
    "\n",
    "lst = []\n",
    "\n",
    "for i in range(int(start),int(end)+1):\n",
    "    stri = str(i) \n",
    "    length = len(stri)  \n",
    "    sum = 0\n",
    "    for j in range(length): \n",
    "        sum = sum +  int(stri[j]) ** length\n",
    "#         print(sum)\n",
    "    if sum == int(stri):\n",
    "        lst.append(int(stri))\n",
    "print(lst)\n",
    "        \n",
    "        \n",
    "    "
   ]
  },
  {
   "cell_type": "markdown",
   "id": "9555b299",
   "metadata": {},
   "source": [
    "6.\tWrite a Python Program to Find the Sum of Natural Numbers?"
   ]
  },
  {
   "cell_type": "code",
   "execution_count": 75,
   "id": "8942a1d9",
   "metadata": {},
   "outputs": [
    {
     "name": "stdout",
     "output_type": "stream",
     "text": [
      "Enter the number upto which sum is required7\n",
      " Sum of natural numbers upto  7 is :-  28\n"
     ]
    }
   ],
   "source": [
    "num = int(input(\"Enter the number upto which sum is required\"))\n",
    "\n",
    "sum = 0\n",
    "\n",
    "for i in range(num+1):\n",
    "    sum = sum + i\n",
    "# print( \" Sum of natural numbers upto {%d} is :- {%d}\",format(num,sum))\n",
    "print( \" Sum of natural numbers upto \", num, \"is :- \",sum)"
   ]
  },
  {
   "cell_type": "code",
   "execution_count": null,
   "id": "025926d5",
   "metadata": {},
   "outputs": [],
   "source": []
  }
 ],
 "metadata": {
  "kernelspec": {
   "display_name": "Python 3 (ipykernel)",
   "language": "python",
   "name": "python3"
  },
  "language_info": {
   "codemirror_mode": {
    "name": "ipython",
    "version": 3
   },
   "file_extension": ".py",
   "mimetype": "text/x-python",
   "name": "python",
   "nbconvert_exporter": "python",
   "pygments_lexer": "ipython3",
   "version": "3.9.7"
  }
 },
 "nbformat": 4,
 "nbformat_minor": 5
}
