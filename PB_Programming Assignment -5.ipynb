{
 "cells": [
  {
   "cell_type": "markdown",
   "id": "cd21101e",
   "metadata": {},
   "source": [
    "### 1.\tWrite a Python Program to Find LCM?"
   ]
  },
  {
   "cell_type": "code",
   "execution_count": 7,
   "id": "359d62e6",
   "metadata": {},
   "outputs": [
    {
     "name": "stdout",
     "output_type": "stream",
     "text": [
      "Enter 1st number12\n",
      "Enter 2nd number7\n",
      "LCM = 84\n"
     ]
    }
   ],
   "source": [
    "num1 = int(input(\"Enter 1st number\"))\n",
    "num2 = int(input(\"Enter 2nd number\"))\n",
    "\n",
    "if num1 > num2:\n",
    "    maximum = num1\n",
    "else:\n",
    "    maximum = num2\n",
    "\n",
    "mult = num1*num2\n",
    "    \n",
    "for i in range(maximum, mult+1):\n",
    "    if ( maximum % num1 == 0 ) and (maximum % num2 == 0):\n",
    "        print(\"LCM = {}\".format(maximum))\n",
    "        break\n",
    "    else:\n",
    "        maximum = maximum + 1\n",
    "\n",
    "    \n",
    "    \n"
   ]
  },
  {
   "cell_type": "markdown",
   "id": "30523e47",
   "metadata": {},
   "source": [
    "### 2.\tWrite a Python Program to Find HCF?"
   ]
  },
  {
   "cell_type": "code",
   "execution_count": 8,
   "id": "2aa998fb",
   "metadata": {},
   "outputs": [
    {
     "name": "stdout",
     "output_type": "stream",
     "text": [
      "Enter 1st number34\n",
      "Enter 2nd number27\n",
      "GCF = 1\n"
     ]
    }
   ],
   "source": [
    "num1 = int(input(\"Enter 1st number\"))\n",
    "num2 = int(input(\"Enter 2nd number\"))\n",
    "\n",
    "if num1 < num2:\n",
    "    minimum = num1\n",
    "else:\n",
    "    minimum = num2\n",
    "\n",
    "for i in range(minimum,0,-1):\n",
    "    if ( num1 % minimum == 0 ) and ( num2 % minimum == 0 ):\n",
    "        print(\"GCF = {}\".format(minimum))\n",
    "        break\n",
    "    else:\n",
    "        minimum = minimum - 1\n",
    "        \n",
    "        \n",
    "        "
   ]
  },
  {
   "cell_type": "markdown",
   "id": "032fcc67",
   "metadata": {},
   "source": [
    "### 3.\tWrite a Python Program to Convert Decimal to Binary, Octal and Hexadecimal?"
   ]
  },
  {
   "cell_type": "code",
   "execution_count": 10,
   "id": "5295740e",
   "metadata": {},
   "outputs": [
    {
     "name": "stdout",
     "output_type": "stream",
     "text": [
      "Enter the number4587\n",
      "The Binary Value is :-  1000111101011 \n",
      "The Octal Value is :-  10753 \n",
      "The Octal Value is :-  11EB \n"
     ]
    }
   ],
   "source": [
    "import math\n",
    "\n",
    "num = int(input(\"Enter the number\"))\n",
    "\n",
    "########################\n",
    "#Converting into Binary#\n",
    "########################\n",
    "binary = []\n",
    "\n",
    "x = num \n",
    "while x != 0:\n",
    "    z = x/ 2\n",
    "    z = math.floor(z)\n",
    "    y = x % 2\n",
    "    binary.append(y)\n",
    "    x = z\n",
    "\n",
    "final = binary[::-1]\n",
    "myString = ' '\n",
    "\n",
    "for p in final:\n",
    "    q = str(p)\n",
    "    myString = myString + q\n",
    "print(\"The Binary Value is :- {} \".format(myString))\n",
    "\n",
    "########################\n",
    "#Converting into Octal##\n",
    "########################\n",
    "Octal = []\n",
    "\n",
    "x = num \n",
    "while x != 0:\n",
    "    z = x/ 8\n",
    "    z = math.floor(z)\n",
    "    y = x % 8\n",
    "    Octal.append(y)\n",
    "    x = z\n",
    "\n",
    "final = Octal[::-1]\n",
    "myString = ' '\n",
    "\n",
    "for p in final:\n",
    "    q = str(p)\n",
    "    myString = myString + q\n",
    "print(\"The Octal Value is :- {} \".format(myString))\n",
    "\n",
    "\n",
    "##############################\n",
    "#Converting into HexaDecimal##\n",
    "##############################\n",
    "\n",
    "HexDec = []\n",
    "\n",
    "x = num \n",
    "while x != 0:\n",
    "    z = x/ 16\n",
    "    z = math.floor(z)\n",
    "    y = x % 16\n",
    "    if y >10:\n",
    "        if y == 10:\n",
    "            y = 'A'\n",
    "        elif y ==11:\n",
    "            y = 'B'\n",
    "        elif y ==12:\n",
    "            y = 'C'\n",
    "        elif y ==13:\n",
    "            y = 'D'\n",
    "        elif y ==14:\n",
    "            y = 'E'\n",
    "        elif y ==15:\n",
    "            y = 'F'\n",
    "    HexDec.append(y)\n",
    "    x = z\n",
    "\n",
    "final = HexDec[::-1]\n",
    "myString = ' '\n",
    "\n",
    "for p in final:\n",
    "    q = str(p)\n",
    "    myString = myString + q\n",
    "print(\"The Octal Value is :- {} \".format(myString))\n"
   ]
  },
  {
   "cell_type": "markdown",
   "id": "ab3e3dde",
   "metadata": {},
   "source": [
    "### 4.\tWrite a Python Program To Find ASCII value of a character?"
   ]
  },
  {
   "cell_type": "code",
   "execution_count": 11,
   "id": "8b58473c",
   "metadata": {},
   "outputs": [
    {
     "name": "stdout",
     "output_type": "stream",
     "text": [
      "Enter a characterC\n",
      "The ASCII value of C is 67\n"
     ]
    }
   ],
   "source": [
    "char =input(\"Enter a character\") \n",
    "ascii_value = ord(char)\n",
    "print(\"The ASCII value of {} is {}\".format(char,ascii_value))"
   ]
  },
  {
   "cell_type": "markdown",
   "id": "ad4d3a68",
   "metadata": {},
   "source": [
    "### 5.\tWrite a Python Program to Make a Simple Calculator with 4 basic mathematical operations?"
   ]
  },
  {
   "cell_type": "code",
   "execution_count": 6,
   "id": "eabad582",
   "metadata": {},
   "outputs": [
    {
     "name": "stdout",
     "output_type": "stream",
     "text": [
      "Enter 1st number12\n",
      "Enter 2nd number34\n",
      "Enter 1 for Addition\n",
      "Enter 2 for Subtraction\n",
      "Enter 3 for Multiplication\n",
      "Enter 4 for Division5\n",
      "Enter correct number\n"
     ]
    }
   ],
   "source": [
    "num1 = int(input(\"Enter 1st number\"))\n",
    "num2 = int(input(\"Enter 2nd number\"))\n",
    "\n",
    "operation = int(input(\"Enter 1 for Addition\\nEnter 2 for Subtraction\\nEnter 3 for Multiplication\\nEnter 4 for Division\"))\n",
    "\n",
    "if operation == 1:\n",
    "    print(\"Addition of {} and {} is :- {}\".format(num1,num2,num1+num2))\n",
    "elif operation == 2:\n",
    "    print(\"Subtraction of {} and {} is :- {}\".format(num1,num2,num1-num2))\n",
    "elif operation == 3:\n",
    "    print(\"Multiplication of {} and {} is :- {}\".format(num1,num2,num1*num2))\n",
    "elif operation == 4:\n",
    "    print(\"Division of {} and {} is :- {}\".format(num1,num2,num1/num2))\n",
    "else:\n",
    "    print(\"Enter correct number\")"
   ]
  },
  {
   "cell_type": "code",
   "execution_count": null,
   "id": "cd1fe207",
   "metadata": {},
   "outputs": [],
   "source": []
  }
 ],
 "metadata": {
  "kernelspec": {
   "display_name": "Python 3 (ipykernel)",
   "language": "python",
   "name": "python3"
  },
  "language_info": {
   "codemirror_mode": {
    "name": "ipython",
    "version": 3
   },
   "file_extension": ".py",
   "mimetype": "text/x-python",
   "name": "python",
   "nbconvert_exporter": "python",
   "pygments_lexer": "ipython3",
   "version": "3.9.7"
  }
 },
 "nbformat": 4,
 "nbformat_minor": 5
}
